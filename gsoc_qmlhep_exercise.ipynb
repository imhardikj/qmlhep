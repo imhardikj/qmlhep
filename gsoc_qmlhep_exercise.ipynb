{
  "nbformat": 4,
  "nbformat_minor": 0,
  "metadata": {
    "colab": {
      "name": "gsoc qmlhep exercise.ipynb",
      "provenance": [],
      "collapsed_sections": [],
      "toc_visible": true
    },
    "kernelspec": {
      "name": "python3",
      "display_name": "Python 3"
    },
    "accelerator": "GPU"
  },
  "cells": [
    {
      "cell_type": "markdown",
      "metadata": {
        "id": "enmpevPEFkDI",
        "colab_type": "text"
      },
      "source": [
        "# Machine Learning Part"
      ]
    },
    {
      "cell_type": "markdown",
      "metadata": {
        "id": "F_pSYJ8GMX4L",
        "colab_type": "text"
      },
      "source": [
        "## Data Preparation"
      ]
    },
    {
      "cell_type": "code",
      "metadata": {
        "id": "2trOnX16LJZJ",
        "colab_type": "code",
        "colab": {}
      },
      "source": [
        "import numpy as np"
      ],
      "execution_count": 0,
      "outputs": []
    },
    {
      "cell_type": "markdown",
      "metadata": {
        "id": "2G18V-XvFrdX",
        "colab_type": "text"
      },
      "source": [
        "Loading Dataset"
      ]
    },
    {
      "cell_type": "code",
      "metadata": {
        "id": "5T1wfvZeDQHW",
        "colab_type": "code",
        "colab": {
          "base_uri": "https://localhost:8080/",
          "height": 35
        },
        "outputId": "4546deda-222d-4ff7-ec0b-293d18ec335e"
      },
      "source": [
        "f = np.load('/content/QIS_EXAM_200Events.npz',fix_imports=True,allow_pickle=True)\n",
        "f.files"
      ],
      "execution_count": 2,
      "outputs": [
        {
          "output_type": "execute_result",
          "data": {
            "text/plain": [
              "['training_input', 'test_input']"
            ]
          },
          "metadata": {
            "tags": []
          },
          "execution_count": 2
        }
      ]
    },
    {
      "cell_type": "markdown",
      "metadata": {
        "id": "5ZMPUlFuF9m3",
        "colab_type": "text"
      },
      "source": [
        "Extracting train and test data"
      ]
    },
    {
      "cell_type": "code",
      "metadata": {
        "id": "U7fIcu7rJ2sp",
        "colab_type": "code",
        "colab": {}
      },
      "source": [
        "train = f['training_input']\n",
        "test = f['test_input']"
      ],
      "execution_count": 0,
      "outputs": []
    },
    {
      "cell_type": "code",
      "metadata": {
        "id": "YJha9FPbLOMz",
        "colab_type": "code",
        "colab": {}
      },
      "source": [
        "data1 = train.item()['0']\n",
        "data2 = train.item()['1']\n",
        "\n",
        "data3 = test.item()['0']\n",
        "data4 = test.item()['1']"
      ],
      "execution_count": 0,
      "outputs": []
    },
    {
      "cell_type": "code",
      "metadata": {
        "id": "MjJmcGq4HqD9",
        "colab_type": "code",
        "colab": {}
      },
      "source": [
        "a = np.zeros((50,6))\n",
        "a[:,:-1] = data1\n",
        "\n",
        "b = np.ones((50,6))\n",
        "b[:,:-1] = data2\n",
        "\n",
        "c = np.zeros((50,6))\n",
        "c[:,:-1] = data3\n",
        "\n",
        "d = np.ones((50,6))\n",
        "d[:,:-1] = data4"
      ],
      "execution_count": 0,
      "outputs": []
    },
    {
      "cell_type": "code",
      "metadata": {
        "id": "HdHLItcgSqyp",
        "colab_type": "code",
        "colab": {}
      },
      "source": [
        "train_data = np.vstack((a,b))\n",
        "test_data = np.vstack((c,d))"
      ],
      "execution_count": 0,
      "outputs": []
    },
    {
      "cell_type": "code",
      "metadata": {
        "id": "oTgxZtv7UKXc",
        "colab_type": "code",
        "outputId": "6fd38dae-359a-4f62-c602-a9ab24f40f0e",
        "colab": {
          "base_uri": "https://localhost:8080/",
          "height": 52
        }
      },
      "source": [
        "print(train_data.shape)\n",
        "print(test_data.shape)"
      ],
      "execution_count": 7,
      "outputs": [
        {
          "output_type": "stream",
          "text": [
            "(100, 6)\n",
            "(100, 6)\n"
          ],
          "name": "stdout"
        }
      ]
    },
    {
      "cell_type": "code",
      "metadata": {
        "id": "d8LnGd3lcz3V",
        "colab_type": "code",
        "colab": {}
      },
      "source": [
        "x_train = train_data[:,:-1]\n",
        "y_train = train_data[:,-1]"
      ],
      "execution_count": 0,
      "outputs": []
    },
    {
      "cell_type": "code",
      "metadata": {
        "id": "gY2R5_g6y1dY",
        "colab_type": "code",
        "colab": {}
      },
      "source": [
        "x_test = test_data[:,:-1]\n",
        "y_test = test_data[:,-1]"
      ],
      "execution_count": 0,
      "outputs": []
    },
    {
      "cell_type": "markdown",
      "metadata": {
        "id": "0IWzR2n_GCVb",
        "colab_type": "text"
      },
      "source": [
        "## Support Vector Machine(SVM) implementation"
      ]
    },
    {
      "cell_type": "code",
      "metadata": {
        "id": "F9NSlu-2UOJF",
        "colab_type": "code",
        "colab": {}
      },
      "source": [
        "from sklearn.svm import SVC"
      ],
      "execution_count": 0,
      "outputs": []
    },
    {
      "cell_type": "code",
      "metadata": {
        "id": "J4mrtuQKiBO_",
        "colab_type": "code",
        "colab": {
          "base_uri": "https://localhost:8080/",
          "height": 88
        },
        "outputId": "9da5fffe-c8ef-41c3-a1c1-bd55b0bb6ab7"
      },
      "source": [
        "model = SVC()\n",
        "model.fit(x_train,y_train)"
      ],
      "execution_count": 11,
      "outputs": [
        {
          "output_type": "execute_result",
          "data": {
            "text/plain": [
              "SVC(C=1.0, break_ties=False, cache_size=200, class_weight=None, coef0=0.0,\n",
              "    decision_function_shape='ovr', degree=3, gamma='scale', kernel='rbf',\n",
              "    max_iter=-1, probability=False, random_state=None, shrinking=True,\n",
              "    tol=0.001, verbose=False)"
            ]
          },
          "metadata": {
            "tags": []
          },
          "execution_count": 11
        }
      ]
    },
    {
      "cell_type": "code",
      "metadata": {
        "id": "im0__L20dPKz",
        "colab_type": "code",
        "colab": {}
      },
      "source": [
        "predictions = model.predict(x_test)"
      ],
      "execution_count": 0,
      "outputs": []
    },
    {
      "cell_type": "code",
      "metadata": {
        "id": "nY5XEQv9ilup",
        "colab_type": "code",
        "outputId": "4e1b967f-1845-4bf8-967d-8026537eaf76",
        "colab": {
          "base_uri": "https://localhost:8080/",
          "height": 35
        }
      },
      "source": [
        "from sklearn.metrics import roc_auc_score\n",
        "print(roc_auc_score(y_test,predictions))"
      ],
      "execution_count": 13,
      "outputs": [
        {
          "output_type": "stream",
          "text": [
            "0.7100000000000002\n"
          ],
          "name": "stdout"
        }
      ]
    },
    {
      "cell_type": "markdown",
      "metadata": {
        "id": "8Lsw6qBoGzY1",
        "colab_type": "text"
      },
      "source": [
        "## Hyperparameter Tunning(SVM)"
      ]
    },
    {
      "cell_type": "code",
      "metadata": {
        "id": "nxXCXTMoeUmf",
        "colab_type": "code",
        "colab": {}
      },
      "source": [
        "param_grid = {'C':[1,10],\n",
        "              'gamma':[0.1,1],\n",
        "              'kernel':['rbf']}"
      ],
      "execution_count": 0,
      "outputs": []
    },
    {
      "cell_type": "code",
      "metadata": {
        "id": "k15dLDUzgRuS",
        "colab_type": "code",
        "colab": {}
      },
      "source": [
        "from sklearn.model_selection import GridSearchCV\n",
        "grid = GridSearchCV(SVC(),param_grid,refit=True)"
      ],
      "execution_count": 0,
      "outputs": []
    },
    {
      "cell_type": "code",
      "metadata": {
        "id": "CY4eoLVHgm6V",
        "colab_type": "code",
        "outputId": "54432e6c-7628-4843-98f9-96b3fa986527",
        "colab": {
          "base_uri": "https://localhost:8080/",
          "height": 212
        }
      },
      "source": [
        "grid.fit(x_train,y_train)"
      ],
      "execution_count": 16,
      "outputs": [
        {
          "output_type": "execute_result",
          "data": {
            "text/plain": [
              "GridSearchCV(cv=None, error_score=nan,\n",
              "             estimator=SVC(C=1.0, break_ties=False, cache_size=200,\n",
              "                           class_weight=None, coef0=0.0,\n",
              "                           decision_function_shape='ovr', degree=3,\n",
              "                           gamma='scale', kernel='rbf', max_iter=-1,\n",
              "                           probability=False, random_state=None, shrinking=True,\n",
              "                           tol=0.001, verbose=False),\n",
              "             iid='deprecated', n_jobs=None,\n",
              "             param_grid={'C': [1, 10], 'gamma': [0.1, 1], 'kernel': ['rbf']},\n",
              "             pre_dispatch='2*n_jobs', refit=True, return_train_score=False,\n",
              "             scoring=None, verbose=0)"
            ]
          },
          "metadata": {
            "tags": []
          },
          "execution_count": 16
        }
      ]
    },
    {
      "cell_type": "code",
      "metadata": {
        "id": "hJm_zX5OhxPX",
        "colab_type": "code",
        "outputId": "5d81f55a-e2fe-4837-ab39-ca37e794e794",
        "colab": {
          "base_uri": "https://localhost:8080/",
          "height": 35
        }
      },
      "source": [
        "grid.best_params_"
      ],
      "execution_count": 17,
      "outputs": [
        {
          "output_type": "execute_result",
          "data": {
            "text/plain": [
              "{'C': 10, 'gamma': 1, 'kernel': 'rbf'}"
            ]
          },
          "metadata": {
            "tags": []
          },
          "execution_count": 17
        }
      ]
    },
    {
      "cell_type": "code",
      "metadata": {
        "id": "Bhyf1n8bhzIr",
        "colab_type": "code",
        "outputId": "50bc5bd2-16bc-429a-c703-c0ae8acb6feb",
        "colab": {
          "base_uri": "https://localhost:8080/",
          "height": 88
        }
      },
      "source": [
        "grid.best_estimator_"
      ],
      "execution_count": 18,
      "outputs": [
        {
          "output_type": "execute_result",
          "data": {
            "text/plain": [
              "SVC(C=10, break_ties=False, cache_size=200, class_weight=None, coef0=0.0,\n",
              "    decision_function_shape='ovr', degree=3, gamma=1, kernel='rbf', max_iter=-1,\n",
              "    probability=False, random_state=None, shrinking=True, tol=0.001,\n",
              "    verbose=False)"
            ]
          },
          "metadata": {
            "tags": []
          },
          "execution_count": 18
        }
      ]
    },
    {
      "cell_type": "code",
      "metadata": {
        "id": "EcQZ6eNigwjd",
        "colab_type": "code",
        "colab": {}
      },
      "source": [
        "grid_predictions = grid.predict(x_test)"
      ],
      "execution_count": 0,
      "outputs": []
    },
    {
      "cell_type": "code",
      "metadata": {
        "id": "UBQu7A_IhhiS",
        "colab_type": "code",
        "outputId": "dfbaf5ad-81d1-48b6-d0b5-6d0fc86aa07d",
        "colab": {
          "base_uri": "https://localhost:8080/",
          "height": 35
        }
      },
      "source": [
        "from sklearn.metrics import roc_auc_score\n",
        "print(roc_auc_score(y_test,grid_predictions))"
      ],
      "execution_count": 20,
      "outputs": [
        {
          "output_type": "stream",
          "text": [
            "0.7200000000000001\n"
          ],
          "name": "stdout"
        }
      ]
    },
    {
      "cell_type": "markdown",
      "metadata": {
        "id": "30kOFcSXIW1m",
        "colab_type": "text"
      },
      "source": [
        "As seen, after tunning hyperparameters score has improved marginally."
      ]
    },
    {
      "cell_type": "markdown",
      "metadata": {
        "id": "wGkpz4VPIl4x",
        "colab_type": "text"
      },
      "source": [
        "## Neural Network implementation"
      ]
    },
    {
      "cell_type": "code",
      "metadata": {
        "id": "O8QLBUMyhoTt",
        "colab_type": "code",
        "colab": {}
      },
      "source": [
        "import tensorflow as tf\n",
        "from keras.models import Sequential\n",
        "from keras.layers import Dense"
      ],
      "execution_count": 0,
      "outputs": []
    },
    {
      "cell_type": "code",
      "metadata": {
        "id": "GkJkwfW7pTZt",
        "colab_type": "code",
        "outputId": "37cb0dcc-2a3c-4fde-f88b-e7fce82d2adc",
        "colab": {
          "base_uri": "https://localhost:8080/",
          "height": 35
        }
      },
      "source": [
        "print(tf.__version__)"
      ],
      "execution_count": 27,
      "outputs": [
        {
          "output_type": "stream",
          "text": [
            "1.15.0\n"
          ],
          "name": "stdout"
        }
      ]
    },
    {
      "cell_type": "markdown",
      "metadata": {
        "id": "_UoYz2LyIzZp",
        "colab_type": "text"
      },
      "source": [
        "A simple fully connected neural network"
      ]
    },
    {
      "cell_type": "code",
      "metadata": {
        "id": "F521Zz9RKTeA",
        "colab_type": "code",
        "colab": {}
      },
      "source": [
        "model2 = Sequential()\n",
        "model2.add(Dense(8, input_dim=5, activation='relu'))\n",
        "model2.add(Dense(6, activation='relu'))\n",
        "model2.add(Dense(4, activation='relu'))\n",
        "model2.add(Dense(1, activation='sigmoid'))"
      ],
      "execution_count": 0,
      "outputs": []
    },
    {
      "cell_type": "code",
      "metadata": {
        "id": "VUgjpTMUKh1g",
        "colab_type": "code",
        "colab": {}
      },
      "source": [
        "model2.compile(loss='binary_crossentropy', optimizer='adam', metrics=['accuracy'])"
      ],
      "execution_count": 0,
      "outputs": []
    },
    {
      "cell_type": "code",
      "metadata": {
        "id": "Cz4bUw3lK1FL",
        "colab_type": "code",
        "colab": {
          "base_uri": "https://localhost:8080/",
          "height": 568
        },
        "outputId": "c73c987e-0995-40c4-d95c-be21610d1b9e"
      },
      "source": [
        "model2.fit(x_train, y_train, epochs=15)"
      ],
      "execution_count": 35,
      "outputs": [
        {
          "output_type": "stream",
          "text": [
            "Epoch 1/15\n",
            "100/100 [==============================] - 0s 202us/step - loss: 0.6024 - acc: 0.7600\n",
            "Epoch 2/15\n",
            "100/100 [==============================] - 0s 206us/step - loss: 0.6017 - acc: 0.7700\n",
            "Epoch 3/15\n",
            "100/100 [==============================] - 0s 158us/step - loss: 0.6008 - acc: 0.7700\n",
            "Epoch 4/15\n",
            "100/100 [==============================] - 0s 170us/step - loss: 0.6002 - acc: 0.7600\n",
            "Epoch 5/15\n",
            "100/100 [==============================] - 0s 153us/step - loss: 0.5994 - acc: 0.7600\n",
            "Epoch 6/15\n",
            "100/100 [==============================] - 0s 151us/step - loss: 0.5985 - acc: 0.7500\n",
            "Epoch 7/15\n",
            "100/100 [==============================] - 0s 172us/step - loss: 0.5980 - acc: 0.7600\n",
            "Epoch 8/15\n",
            "100/100 [==============================] - 0s 156us/step - loss: 0.5985 - acc: 0.7600\n",
            "Epoch 9/15\n",
            "100/100 [==============================] - 0s 183us/step - loss: 0.5981 - acc: 0.7600\n",
            "Epoch 10/15\n",
            "100/100 [==============================] - 0s 171us/step - loss: 0.5978 - acc: 0.7600\n",
            "Epoch 11/15\n",
            "100/100 [==============================] - 0s 211us/step - loss: 0.5976 - acc: 0.7600\n",
            "Epoch 12/15\n",
            "100/100 [==============================] - 0s 190us/step - loss: 0.5972 - acc: 0.7600\n",
            "Epoch 13/15\n",
            "100/100 [==============================] - 0s 190us/step - loss: 0.5969 - acc: 0.7600\n",
            "Epoch 14/15\n",
            "100/100 [==============================] - 0s 249us/step - loss: 0.5967 - acc: 0.7600\n",
            "Epoch 15/15\n",
            "100/100 [==============================] - 0s 182us/step - loss: 0.5963 - acc: 0.7600\n"
          ],
          "name": "stdout"
        },
        {
          "output_type": "execute_result",
          "data": {
            "text/plain": [
              "<keras.callbacks.History at 0x7f7d00220748>"
            ]
          },
          "metadata": {
            "tags": []
          },
          "execution_count": 35
        }
      ]
    },
    {
      "cell_type": "code",
      "metadata": {
        "id": "SNaiKOCtK7-6",
        "colab_type": "code",
        "colab": {}
      },
      "source": [
        "nn_predictions = model2.predict(x_test)"
      ],
      "execution_count": 0,
      "outputs": []
    },
    {
      "cell_type": "code",
      "metadata": {
        "id": "eolwbegcq2OT",
        "colab_type": "code",
        "colab": {
          "base_uri": "https://localhost:8080/",
          "height": 35
        },
        "outputId": "aa051f2f-0b6f-48ad-d938-4d9ac2fe3b84"
      },
      "source": [
        "print(roc_auc_score(y_test,nn_predictions))"
      ],
      "execution_count": 37,
      "outputs": [
        {
          "output_type": "stream",
          "text": [
            "0.7762\n"
          ],
          "name": "stdout"
        }
      ]
    },
    {
      "cell_type": "markdown",
      "metadata": {
        "id": "fQ7RyHpKMCLz",
        "colab_type": "text"
      },
      "source": [
        "The prediction score of neural network is much better then SVM."
      ]
    },
    {
      "cell_type": "markdown",
      "metadata": {
        "id": "Mg2PEvUcNK4v",
        "colab_type": "text"
      },
      "source": [
        "# Quantum Computing Part"
      ]
    },
    {
      "cell_type": "code",
      "metadata": {
        "id": "n6gMikL5NlZN",
        "colab_type": "code",
        "colab": {}
      },
      "source": [
        "!pip install cirq"
      ],
      "execution_count": 0,
      "outputs": []
    },
    {
      "cell_type": "code",
      "metadata": {
        "id": "s1IdyBO1Ncpp",
        "colab_type": "code",
        "colab": {}
      },
      "source": [
        "import cirq\n",
        "import numpy as np"
      ],
      "execution_count": 0,
      "outputs": []
    },
    {
      "cell_type": "markdown",
      "metadata": {
        "id": "Eb4p3rSzlM7y",
        "colab_type": "text"
      },
      "source": [
        "## 1st question"
      ]
    },
    {
      "cell_type": "markdown",
      "metadata": {
        "id": "Od---penO3fv",
        "colab_type": "text"
      },
      "source": [
        "Defining Qubits"
      ]
    },
    {
      "cell_type": "code",
      "metadata": {
        "id": "CIQ50FHkS-zO",
        "colab_type": "code",
        "colab": {}
      },
      "source": [
        "qub = cirq.LineQubit.range(5) # 5 qubits"
      ],
      "execution_count": 0,
      "outputs": []
    },
    {
      "cell_type": "code",
      "metadata": {
        "id": "wvSiiLT3lZpg",
        "colab_type": "code",
        "colab": {}
      },
      "source": [
        "circuit = cirq.Circuit()"
      ],
      "execution_count": 0,
      "outputs": []
    },
    {
      "cell_type": "code",
      "metadata": {
        "id": "k6eM8G6UldHO",
        "colab_type": "code",
        "colab": {}
      },
      "source": [
        "# Apply Hadamard operation on every qubit\n",
        "\n",
        "circuit.append([cirq.H(q) for q in qub],strategy=cirq.InsertStrategy.EARLIEST)"
      ],
      "execution_count": 0,
      "outputs": []
    },
    {
      "cell_type": "code",
      "metadata": {
        "id": "U9mxkZiGlp9C",
        "colab_type": "code",
        "colab": {}
      },
      "source": [
        "# Apply CNOT operation on (0, 1), (1,2), (2,3), (3,4)\n",
        "\n",
        "circuit.append(cirq.CNOT(qub[0],qub[1]),strategy=cirq.InsertStrategy.NEW_THEN_INLINE)\n",
        "circuit.append(cirq.CNOT(qub[1],qub[2]),strategy=cirq.InsertStrategy.NEW_THEN_INLINE)\n",
        "circuit.append(cirq.CNOT(qub[2],qub[3]),strategy=cirq.InsertStrategy.NEW_THEN_INLINE)\n",
        "circuit.append(cirq.CNOT(qub[3],qub[4]),strategy=cirq.InsertStrategy.NEW_THEN_INLINE)"
      ],
      "execution_count": 0,
      "outputs": []
    },
    {
      "cell_type": "code",
      "metadata": {
        "id": "ZfThdKa7ld8p",
        "colab_type": "code",
        "colab": {}
      },
      "source": [
        "# SWAP (0, 4)\n",
        "\n",
        "circuit.append(cirq.SWAP(qub[0],qub[4]),strategy=cirq.InsertStrategy.NEW_THEN_INLINE)"
      ],
      "execution_count": 0,
      "outputs": []
    },
    {
      "cell_type": "code",
      "metadata": {
        "id": "yWBPjED2TOjd",
        "colab_type": "code",
        "colab": {}
      },
      "source": [
        "#Rotate X with pi/2\n",
        "\n",
        "gate = cirq.rx(np.pi / 2)\n",
        "circuit.append([[gate(qub[x])] for x in range(5)],strategy=cirq.InsertStrategy.NEW_THEN_INLINE)"
      ],
      "execution_count": 0,
      "outputs": []
    },
    {
      "cell_type": "markdown",
      "metadata": {
        "id": "QpgXq-bomCdt",
        "colab_type": "text"
      },
      "source": [
        "Plotting Circuit"
      ]
    },
    {
      "cell_type": "code",
      "metadata": {
        "id": "PC4FRn-smEF2",
        "colab_type": "code",
        "colab": {
          "base_uri": "https://localhost:8080/",
          "height": 177
        },
        "outputId": "d20ff6ee-5bc1-4a52-b610-36861a44adc6"
      },
      "source": [
        "print(circuit)"
      ],
      "execution_count": 45,
      "outputs": [
        {
          "output_type": "stream",
          "text": [
            "0: ───H───@───────────────×───Rx(0.5π)───\n",
            "          │               │\n",
            "1: ───H───X───@───────────┼───Rx(0.5π)───\n",
            "              │           │\n",
            "2: ───H───────X───@───────┼───Rx(0.5π)───\n",
            "                  │       │\n",
            "3: ───H───────────X───@───┼───Rx(0.5π)───\n",
            "                      │   │\n",
            "4: ───H───────────────X───×───Rx(0.5π)───\n"
          ],
          "name": "stdout"
        }
      ]
    },
    {
      "cell_type": "markdown",
      "metadata": {
        "id": "EDDNaf9mmGWG",
        "colab_type": "text"
      },
      "source": [
        "## 2nd question"
      ]
    },
    {
      "cell_type": "code",
      "metadata": {
        "id": "rHqPHeXKf9od",
        "colab_type": "code",
        "colab": {}
      },
      "source": [
        "qbits = [cirq.LineQubit(0)]"
      ],
      "execution_count": 0,
      "outputs": []
    },
    {
      "cell_type": "code",
      "metadata": {
        "id": "CyVMxq7hmsVL",
        "colab_type": "code",
        "colab": {}
      },
      "source": [
        "gate = cirq.rx(0.1)\n",
        "\n",
        "res = []\n",
        "for i in range(100):\n",
        "    circuit = cirq.Circuit()\n",
        "    simulator = cirq.Simulator()\n",
        "    for j in range(i):\n",
        "        circuit.append([gate(qbits[0])])\n",
        "    circuit.append(cirq.measure(qbits[0], key=\"x\"))\n",
        "    results = simulator.run(circuit, repetitions=100)\n",
        "    count = results.histogram(key='x')\n",
        "    res.append(count[0]/100)"
      ],
      "execution_count": 0,
      "outputs": []
    },
    {
      "cell_type": "code",
      "metadata": {
        "id": "nXE_1jE-xpZD",
        "colab_type": "code",
        "colab": {
          "base_uri": "https://localhost:8080/",
          "height": 55
        },
        "outputId": "ced8911e-9b2e-45e9-dce8-3ceddda65fbd"
      },
      "source": [
        "print(circuit)"
      ],
      "execution_count": 48,
      "outputs": [
        {
          "output_type": "stream",
          "text": [
            "0: ───Rx(0.032π)───Rx(0.032π)───Rx(0.032π)───Rx(0.032π)───Rx(0.032π)───Rx(0.032π)───Rx(0.032π)───Rx(0.032π)───Rx(0.032π)───Rx(0.032π)───Rx(0.032π)───Rx(0.032π)───Rx(0.032π)───Rx(0.032π)───Rx(0.032π)───Rx(0.032π)───Rx(0.032π)───Rx(0.032π)───Rx(0.032π)───Rx(0.032π)───Rx(0.032π)───Rx(0.032π)───Rx(0.032π)───Rx(0.032π)───Rx(0.032π)───Rx(0.032π)───Rx(0.032π)───Rx(0.032π)───Rx(0.032π)───Rx(0.032π)───Rx(0.032π)───Rx(0.032π)───Rx(0.032π)───Rx(0.032π)───Rx(0.032π)───Rx(0.032π)───Rx(0.032π)───Rx(0.032π)───Rx(0.032π)───Rx(0.032π)───Rx(0.032π)───Rx(0.032π)───Rx(0.032π)───Rx(0.032π)───Rx(0.032π)───Rx(0.032π)───Rx(0.032π)───Rx(0.032π)───Rx(0.032π)───Rx(0.032π)───Rx(0.032π)───Rx(0.032π)───Rx(0.032π)───Rx(0.032π)───Rx(0.032π)───Rx(0.032π)───Rx(0.032π)───Rx(0.032π)───Rx(0.032π)───Rx(0.032π)───Rx(0.032π)───Rx(0.032π)───Rx(0.032π)───Rx(0.032π)───Rx(0.032π)───Rx(0.032π)───Rx(0.032π)───Rx(0.032π)───Rx(0.032π)───Rx(0.032π)───Rx(0.032π)───Rx(0.032π)───Rx(0.032π)───Rx(0.032π)───Rx(0.032π)───Rx(0.032π)───Rx(0.032π)───Rx(0.032π)───Rx(0.032π)───Rx(0.032π)───Rx(0.032π)───Rx(0.032π)───Rx(0.032π)───Rx(0.032π)───Rx(0.032π)───Rx(0.032π)───Rx(0.032π)───Rx(0.032π)───Rx(0.032π)───Rx(0.032π)───Rx(0.032π)───Rx(0.032π)───Rx(0.032π)───Rx(0.032π)───Rx(0.032π)───Rx(0.032π)───Rx(0.032π)───Rx(0.032π)───Rx(0.032π)───M('x')───\n"
          ],
          "name": "stdout"
        }
      ]
    },
    {
      "cell_type": "markdown",
      "metadata": {
        "id": "lDntMN0zxSYI",
        "colab_type": "text"
      },
      "source": [
        "Plotting the Probability of measmeasuring |0⟩ state"
      ]
    },
    {
      "cell_type": "code",
      "metadata": {
        "id": "IbHWJUPXsBeS",
        "colab_type": "code",
        "colab": {}
      },
      "source": [
        "import seaborn as sns\n",
        "import pandas as pd\n",
        "import matplotlib.pyplot as plt\n",
        "sns.set_style(\"whitegrid\")"
      ],
      "execution_count": 0,
      "outputs": []
    },
    {
      "cell_type": "code",
      "metadata": {
        "id": "h2nlXNwCvmdU",
        "colab_type": "code",
        "colab": {
          "base_uri": "https://localhost:8080/",
          "height": 296
        },
        "outputId": "3a48dd5b-023c-4cda-b62a-7a81f1b3d0a4"
      },
      "source": [
        "data = pd.DataFrame(res,columns=['Probability'])\n",
        "plt.xlabel('Number of circ.Rx gates')\n",
        "plt.ylabel('Probablity')\n",
        "\n",
        "sns.lineplot(data=data,palette=['red'], linewidth=2.5)"
      ],
      "execution_count": 50,
      "outputs": [
        {
          "output_type": "execute_result",
          "data": {
            "text/plain": [
              "<matplotlib.axes._subplots.AxesSubplot at 0x7f7cab20f3c8>"
            ]
          },
          "metadata": {
            "tags": []
          },
          "execution_count": 50
        },
        {
          "output_type": "display_data",
          "data": {
            "image/png": "[encoded data removed]",
            "text/plain": [
              "<Figure size 432x288 with 1 Axes>"
            ]
          },
          "metadata": {
            "tags": []
          }
        }
      ]
    },
    {
      "cell_type": "markdown",
      "metadata": {
        "id": "-rWlRFznxvhM",
        "colab_type": "text"
      },
      "source": [
        "This is how the probability changes upon increasing cirq.rx rotations."
      ]
    }
  ]
}